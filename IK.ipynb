{
 "cells": [
  {
   "cell_type": "code",
   "execution_count": 354,
   "metadata": {},
   "outputs": [],
   "source": [
    "import math \n",
    "import numpy as np"
   ]
  },
  {
   "attachments": {},
   "cell_type": "markdown",
   "metadata": {},
   "source": [
    "Необходимые константы"
   ]
  },
  {
   "cell_type": "code",
   "execution_count": 355,
   "metadata": {},
   "outputs": [],
   "source": [
    "a = 50\n",
    "b = 160\n",
    "l_34 = 60\n",
    "l_45 = 320\n",
    "l_23 =  220\n"
   ]
  },
  {
   "attachments": {},
   "cell_type": "markdown",
   "metadata": {},
   "source": [
    "X_0 = 370;\n",
    "Y_0 = 0;\n",
    "Z_0 = 440;"
   ]
  },
  {
   "attachments": {},
   "cell_type": "markdown",
   "metadata": {},
   "source": [
    "ПРЯМАЯ ЗАДАЧА КИНЕМАТИКИ"
   ]
  },
  {
   "cell_type": "code",
   "execution_count": 362,
   "metadata": {},
   "outputs": [
    {
     "name": "stdout",
     "output_type": "stream",
     "text": [
      "[[410.10163353]\n",
      " [  0.        ]\n",
      " [425.45331634]]\n"
     ]
    }
   ],
   "source": [
    "theta1, theta2, theta3 = map(int, input().split())\n",
    "X_q=- l_34 * math.sin(math.radians(theta3)) + l_45 * math.cos(math.radians(theta3))\n",
    "Z_q= l_34 * math.cos(math.radians(theta3)) + l_45 * math.sin(math.radians(theta3))\n",
    "\n",
    "X_3= math.cos(math.radians(22))*X_q + math.sin(math.radians(22))*Z_q\n",
    "Z_3= -math.sin(math.radians(22))*X_q + math.cos(math.radians(22))*Z_q\n",
    "\n",
    "Y_m = 0\n",
    "\n",
    "X_m = a + math.sin(math.radians(theta2))*l_23 +X_3 #- l_34 * math.sin(math.radians(theta3)) + l_45 * math.cos(math.radians(theta3))\n",
    "\n",
    "Z_m = b + math.cos(math.radians(theta2))*l_23 +Z_3 #+ l_34 * math.cos(math.radians(theta3)) + l_45 * math.sin(math.radians(theta3))\n",
    "\n",
    "first_angle = np.array ([[math.cos(math.radians(theta1)), math.sin(math.radians(theta1)), 0],\n",
    "                        [-math.sin(math.radians(theta1)), math.cos(math.radians(theta1)), 0],\n",
    "                        [0, 0, 1]])\n",
    "fin =  first_angle.dot(np.array([[X_m], [Y_m], [Z_m]]))\n",
    "\n",
    "print(fin)\n"
   ]
  },
  {
   "attachments": {},
   "cell_type": "markdown",
   "metadata": {},
   "source": [
    "ОБРАТНАЯ ЗАДАЧА КИНЕМАТИКИ"
   ]
  },
  {
   "cell_type": "code",
   "execution_count": 363,
   "metadata": {},
   "outputs": [
    {
     "name": "stdout",
     "output_type": "stream",
     "text": [
      "410.1 0.0 425.45\n"
     ]
    }
   ],
   "source": [
    "X, Y, Z = fin\n",
    "X= round(X[0],2)\n",
    "Y= round(Y[0],2)\n",
    "Z= round(Z[0],2)\n",
    "print (X, Y, Z)\n"
   ]
  },
  {
   "attachments": {},
   "cell_type": "markdown",
   "metadata": {},
   "source": [
    "Вычисление углов"
   ]
  },
  {
   "cell_type": "code",
   "execution_count": 364,
   "metadata": {},
   "outputs": [
    {
     "name": "stdout",
     "output_type": "stream",
     "text": [
      "410.1\n",
      "0.0 9.999419554966291 19.999340830837923\n"
     ]
    }
   ],
   "source": [
    "#print (X, Y, Z)\n",
    "if X == 0 :\n",
    "    theta_1=math.radians(90)\n",
    "else:\n",
    "   X_flag = X\n",
    "   X=abs(X)\n",
    "   theta_1 = math.atan (Y/X) #для ориентации\n",
    "print (X_flag)\n",
    "\n",
    "\n",
    "X_21 = X*math.cos(theta_1)+Y*math.sin(theta_1)-a\n",
    "Z_21 = Z - b\n",
    "#print (X_21, Z_21)\n",
    "l_35 = math.sqrt((l_34)**2 + (l_45)**2)\n",
    "#print(l_35)\n",
    "\n",
    "alfa =math.atan((l_45)/(l_34))\n",
    "#print(alfa)\n",
    "\n",
    "gama = math.acos((-(X_21)**2 - (Z_21)**2 + (l_23)**2 + (l_35)**2)/(2*l_23 * l_35))\n",
    "mu = math.atan(Z_21/X_21)\n",
    "lamda = math.acos(((l_23)**2 + (X_21)**2 +(Z_21)**2 - (l_35)**2) / (2*l_23 *math.sqrt((X_21)**2 + (Z_21)**2)))\n",
    "\n",
    "theta_2 = math.pi/2 -mu - lamda\n",
    "theta_31 = math.pi- alfa-gama+ theta_2\n",
    "theta_3=theta_31-math.radians(22)\n",
    "\n",
    "if X_flag<0 and Y<0:\n",
    "    theta_1=-theta_1+math.pi\n",
    "elif X_flag<0 and Y>0:\n",
    "    theta_1=theta_1-math.pi\n",
    "elif X_flag>0 and Y<0:\n",
    "    theta_1=abs(theta_1)\n",
    "elif X_flag>0 and Y>0:\n",
    "    theta_1=-theta_1\n",
    "\n",
    "\n",
    "print(math.degrees(theta_1), math.degrees(theta_2), math.degrees(-theta_3))"
   ]
  }
 ],
 "metadata": {
  "kernelspec": {
   "display_name": "base",
   "language": "python",
   "name": "python3"
  },
  "language_info": {
   "codemirror_mode": {
    "name": "ipython",
    "version": 3
   },
   "file_extension": ".py",
   "mimetype": "text/x-python",
   "name": "python",
   "nbconvert_exporter": "python",
   "pygments_lexer": "ipython3",
   "version": "3.9.7"
  },
  "orig_nbformat": 4,
  "vscode": {
   "interpreter": {
    "hash": "8476bf459bdf64020576e40d8f241c60543558f80b72c641b4f7f61d5d3a5e34"
   }
  }
 },
 "nbformat": 4,
 "nbformat_minor": 2
}
